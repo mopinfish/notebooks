{
 "cells": [
  {
   "cell_type": "markdown",
   "metadata": {
    "deletable": true,
    "editable": true
   },
   "source": [
    "# Point in Polygon & Intersect\n",
    "\n",
    "Finding out if a certain point is located inside or outside of an area,\n",
    "or finding out if a line intersects with another line or polygon are\n",
    "fundamental geospatial operations that are often used e.g. to select\n",
    "data based on location. Such spatial queries are one of the typical\n",
    "first steps of the workflow when doing spatial analysis. Performing a\n",
    "spatial join (will be introduced later) between two spatial datasets is\n",
    "one of the most typical applications where Point in Polygon (PIP) query\n",
    "is used. \n",
    "\n",
    "For further reading about PIP and other geometric operations, \n",
    "see Chapter 4.2 in Smith, Goodchild & Longley: [Geospatial Analysis - 6th edition](https://www.spatialanalysisonline.com/HTML/index.html).\n",
    "\n",
    "## How to check if point is inside a polygon?\n",
    "\n",
    "Computationally, detecting if a point is inside a polygon is most commonly done using a specific formula called [Ray Casting algorithm](https://en.wikipedia.org/wiki/Point_in_polygon#Ray_casting_algorithm).\n",
    "Luckily, we do not need to create such a function ourselves for\n",
    "conducting the Point in Polygon (PIP) query. Instead, we can take\n",
    "advantage of [Shapely's binary predicates](https://shapely.readthedocs.io/en/stable/manual.html#binary-predicates)\n",
    "that can evaluate the topolocical relationships between geographical\n",
    "objects, such as the PIP as we're interested here.\n",
    "\n",
    "There are basically two ways of conducting PIP in Shapely:\n",
    "\n",
    "1. using a function called\n",
    "   [within()](https://shapely.readthedocs.io/en/stable/manual.html#object.within)\n",
    "   that checks if a point is within a polygon\n",
    "2. using a function called\n",
    "   [contains()](https://shapely.readthedocs.io/en/stable/manual.html#object.contains)\n",
    "   that checks if a polygon contains a point\n",
    "\n",
    "Notice: even though we are talking here about **Point** in Polygon\n",
    "operation, it is also possible to check if a LineString or Polygon is\n",
    "inside another Polygon.\n",
    "\n",
    "Let's import shapely functionalities and create some points:"
   ]
  },
  {
   "cell_type": "code",
   "execution_count": 1,
   "metadata": {},
   "outputs": [],
   "source": [
    "from shapely.geometry import Point, Polygon\n",
    "\n",
    "# Create Point objects\n",
    "p1 = Point(24.952242, 60.1696017)\n",
    "p2 = Point(24.976567, 60.1612500)"
   ]
  },
  {
   "cell_type": "markdown",
   "metadata": {},
   "source": [
    "Let's also create a polygon using a list of coordinate-tuples:"
   ]
  },
  {
   "cell_type": "code",
   "execution_count": 2,
   "metadata": {
    "collapsed": false,
    "deletable": true,
    "editable": true,
    "jupyter": {
     "outputs_hidden": false
    }
   },
   "outputs": [],
   "source": [
    "# Create a Polygon\n",
    "coords = [(24.950899, 60.169158), (24.953492, 60.169158), (24.953510, 60.170104), (24.950958, 60.169990)]\n",
    "poly = Polygon(coords)"
   ]
  },
  {
   "cell_type": "code",
   "execution_count": 3,
   "metadata": {},
   "outputs": [
    {
     "name": "stdout",
     "output_type": "stream",
     "text": [
      "POINT (24.952242 60.1696017)\n",
      "POINT (24.976567 60.16125)\n",
      "POLYGON ((24.950899 60.169158, 24.953492 60.169158, 24.95351 60.170104, 24.950958 60.16999, 24.950899 60.169158))\n"
     ]
    }
   ],
   "source": [
    "# Let's check what we have\n",
    "print(p1)\n",
    "print(p2)\n",
    "print(poly)"
   ]
  },
  {
   "cell_type": "markdown",
   "metadata": {
    "deletable": true,
    "editable": true
   },
   "source": [
    "- Let's check if those points are ``within`` the polygon:"
   ]
  },
  {
   "cell_type": "code",
   "execution_count": 4,
   "metadata": {},
   "outputs": [
    {
     "data": {
      "text/plain": [
       "True"
      ]
     },
     "execution_count": 4,
     "metadata": {},
     "output_type": "execute_result"
    }
   ],
   "source": [
    "# Check if p1 is within the polygon using the within function\n",
    "p1.within(poly)"
   ]
  },
  {
   "cell_type": "code",
   "execution_count": 5,
   "metadata": {
    "collapsed": false,
    "deletable": true,
    "editable": true,
    "jupyter": {
     "outputs_hidden": false
    }
   },
   "outputs": [
    {
     "data": {
      "text/plain": [
       "False"
      ]
     },
     "execution_count": 5,
     "metadata": {},
     "output_type": "execute_result"
    }
   ],
   "source": [
    "# Check if p2 is within the polygon\n",
    "p2.within(poly)"
   ]
  },
  {
   "cell_type": "markdown",
   "metadata": {
    "deletable": true,
    "editable": true
   },
   "source": [
    "Okey, so we can see that the first point seems to be inside that polygon\n",
    "and the other one isn't.\n",
    "\n",
    "-In fact, the first point is quite close to close to the center of the polygon as we\n",
    "can see if we compare the point location to the polygon centroid:"
   ]
  },
  {
   "cell_type": "code",
   "execution_count": 6,
   "metadata": {
    "collapsed": false,
    "deletable": true,
    "editable": true,
    "jupyter": {
     "outputs_hidden": false
    }
   },
   "outputs": [
    {
     "name": "stdout",
     "output_type": "stream",
     "text": [
      "POINT (24.952242 60.1696017)\n",
      "POINT (24.95224242849236 60.16960179038188)\n"
     ]
    }
   ],
   "source": [
    "# Our point\n",
    "print(p1)\n",
    "\n",
    "# The centroid\n",
    "print(poly.centroid)"
   ]
  },
  {
   "cell_type": "markdown",
   "metadata": {
    "deletable": true,
    "editable": true
   },
   "source": [
    "It is also possible to do PIP other way around, i.e. to check if\n",
    "polygon contains a point:"
   ]
  },
  {
   "cell_type": "code",
   "execution_count": 7,
   "metadata": {},
   "outputs": [
    {
     "data": {
      "text/plain": [
       "True"
      ]
     },
     "execution_count": 7,
     "metadata": {},
     "output_type": "execute_result"
    }
   ],
   "source": [
    "# Does polygon contain p1?\n",
    "poly.contains(p1)"
   ]
  },
  {
   "cell_type": "code",
   "execution_count": 8,
   "metadata": {
    "collapsed": false,
    "deletable": true,
    "editable": true,
    "jupyter": {
     "outputs_hidden": false
    }
   },
   "outputs": [
    {
     "data": {
      "text/plain": [
       "False"
      ]
     },
     "execution_count": 8,
     "metadata": {},
     "output_type": "execute_result"
    }
   ],
   "source": [
    "# Does polygon contain p2?\n",
    "poly.contains(p2)"
   ]
  },
  {
   "cell_type": "markdown",
   "metadata": {
    "deletable": true,
    "editable": true
   },
   "source": [
    "Thus, both ways of checking the spatial relationship are identical; [contains()](https://shapely.readthedocs.io/en/stable/manual.html#object.contains) is inverse to [within()](https://shapely.readthedocs.io/en/stable/manual.html#object.within) and vice versa.\n",
    "\n",
    "Which one should you use then? Well, it depends:\n",
    "\n",
    "-  if you have **many points and just one polygon** and you try to find out\n",
    "   which one of them is inside the polygon: You might need to iterate over the points and check one at a time if it\n",
    "   is **within()** the polygon.\n",
    "\n",
    "-  if you have **many polygons and just one point** and you want to find out\n",
    "   which polygon contains the point: You might need to iterate over the polygons until you find a polygon that **contains()** the point specified (assuming there are no overlapping polygons)\n",
    "        \n",
    "## Intersect\n",
    "\n",
    "\n",
    "Another typical geospatial operation is to see if a geometry intersects\n",
    "or touches another one. Again, there are binary operations in Shapely for checking these spatial relationships:\n",
    "\n",
    "- [intersects():](https://shapely.readthedocs.io/en/stable/manual.html#object.intersects) Two objects intersect if the boundary or interior of one object intersect in any way with the boundary or interior of the other object.\n",
    "\n",
    "- [touches():](https://shapely.readthedocs.io/en/stable/manual.html#object.touches) Two objects touch if the objects have at least one point in common and their interiors do not intersect with any part of the other object.\n",
    "   \n",
    "\n",
    "Let's try these out.\n",
    "\n",
    "Let's create two LineStrings:"
   ]
  },
  {
   "cell_type": "code",
   "execution_count": 9,
   "metadata": {
    "deletable": true,
    "editable": true
   },
   "outputs": [],
   "source": [
    "from shapely.geometry import LineString, MultiLineString\n",
    "\n",
    "# Create two lines\n",
    "line_a = LineString([(0, 0), (1, 1)])\n",
    "line_b = LineString([(1, 1), (0, 2)])"
   ]
  },
  {
   "cell_type": "markdown",
   "metadata": {
    "deletable": true,
    "editable": true
   },
   "source": [
    "Let's see if they intersect"
   ]
  },
  {
   "cell_type": "code",
   "execution_count": 10,
   "metadata": {
    "collapsed": false,
    "deletable": true,
    "editable": true,
    "jupyter": {
     "outputs_hidden": false
    }
   },
   "outputs": [
    {
     "data": {
      "text/plain": [
       "True"
      ]
     },
     "execution_count": 10,
     "metadata": {},
     "output_type": "execute_result"
    }
   ],
   "source": [
    "line_a.intersects(line_b)"
   ]
  },
  {
   "cell_type": "markdown",
   "metadata": {
    "deletable": true,
    "editable": true
   },
   "source": [
    "Do they also touch?"
   ]
  },
  {
   "cell_type": "code",
   "execution_count": 11,
   "metadata": {
    "collapsed": false,
    "deletable": true,
    "editable": true,
    "jupyter": {
     "outputs_hidden": false
    }
   },
   "outputs": [
    {
     "data": {
      "text/plain": [
       "True"
      ]
     },
     "execution_count": 11,
     "metadata": {},
     "output_type": "execute_result"
    }
   ],
   "source": [
    "line_a.touches(line_b)"
   ]
  },
  {
   "cell_type": "markdown",
   "metadata": {
    "deletable": true,
    "editable": true
   },
   "source": [
    "Indeed, they do and we can see this by plotting the features together"
   ]
  },
  {
   "cell_type": "code",
   "execution_count": 12,
   "metadata": {
    "collapsed": false,
    "deletable": true,
    "editable": true,
    "jupyter": {
     "outputs_hidden": false
    }
   },
   "outputs": [
    {
     "data": {
      "image/svg+xml": [
       "<svg xmlns=\"http://www.w3.org/2000/svg\" xmlns:xlink=\"http://www.w3.org/1999/xlink\" width=\"100.0\" height=\"100.0\" viewBox=\"-0.08 -0.08 1.1600000000000001 2.16\" preserveAspectRatio=\"xMinYMin meet\"><g transform=\"matrix(1,0,0,-1,0,2.0)\"><g><polyline fill=\"none\" stroke=\"#66cc99\" stroke-width=\"0.0432\" points=\"0.0,0.0 1.0,1.0\" opacity=\"0.8\" /><polyline fill=\"none\" stroke=\"#66cc99\" stroke-width=\"0.0432\" points=\"1.0,1.0 0.0,2.0\" opacity=\"0.8\" /></g></g></svg>"
      ],
      "text/plain": [
       "<shapely.geometry.multilinestring.MultiLineString at 0x7f069df743d0>"
      ]
     },
     "execution_count": 12,
     "metadata": {},
     "output_type": "execute_result"
    }
   ],
   "source": [
    "# Create a MultiLineString from line_a and line_b\n",
    "multi_line = MultiLineString([line_a, line_b])\n",
    "multi_line"
   ]
  },
  {
   "cell_type": "markdown",
   "metadata": {
    "deletable": true,
    "editable": true
   },
   "source": [
    "Thus, the ``line_b`` continues from the same node ( (1,1) ) where ``line_a`` ends.\n",
    "\n",
    "However, if the lines overlap fully, they don't touch due to the spatial relationship rule, as we can see:\n",
    "\n",
    "Check if `line_a` touches itself:"
   ]
  },
  {
   "cell_type": "code",
   "execution_count": 13,
   "metadata": {
    "collapsed": false,
    "deletable": true,
    "editable": true,
    "jupyter": {
     "outputs_hidden": false
    }
   },
   "outputs": [
    {
     "data": {
      "text/plain": [
       "False"
      ]
     },
     "execution_count": 13,
     "metadata": {},
     "output_type": "execute_result"
    }
   ],
   "source": [
    "# Does the line touch with itself?\n",
    "line_a.touches(line_a)"
   ]
  },
  {
   "cell_type": "markdown",
   "metadata": {
    "deletable": true,
    "editable": true
   },
   "source": [
    "It does not. However, it does intersect:"
   ]
  },
  {
   "cell_type": "code",
   "execution_count": 14,
   "metadata": {
    "collapsed": false,
    "deletable": true,
    "editable": true,
    "jupyter": {
     "outputs_hidden": false
    }
   },
   "outputs": [
    {
     "data": {
      "text/plain": [
       "True"
      ]
     },
     "execution_count": 14,
     "metadata": {},
     "output_type": "execute_result"
    }
   ],
   "source": [
    "# Does the line intersect with itself?\n",
    "line_a.intersects(line_a)"
   ]
  },
  {
   "cell_type": "markdown",
   "metadata": {},
   "source": [
    "## Point in Polygon using Geopandas\n",
    "\n",
    "Next we will do a practical example where we check which of the addresses from [the geocoding tutorial](geocoding_in_geopandas.ipynb) are located in Southern district of Helsinki. Let's start by reading a KML-file ``PKS_suuralue.kml`` that has the Polygons for districts of Helsinki Region (data openly available from [Helsinki Region Infoshare](http://www.hri.fi/fi/dataset/paakaupunkiseudun-aluejakokartat).\n",
    "\n",
    "Let's start by reading the addresses from the Shapefile that we saved earlier."
   ]
  },
  {
   "cell_type": "code",
   "execution_count": 15,
   "metadata": {
    "deletable": true,
    "editable": true
   },
   "outputs": [],
   "source": [
    "import geopandas as gpd\n",
    "\n",
    "fp = \"data/addresses.shp\"\n",
    "data = gpd.read_file(fp)\n"
   ]
  },
  {
   "cell_type": "markdown",
   "metadata": {
    "deletable": true,
    "editable": true
   },
   "source": [
    "\n",
    "### Reading KML-files in Geopandas\n",
    "\n",
    "It is possible to read the data from KML-files with GeoPandas in a similar manner as Shapefiles. However, we need to first, enable the KML-driver which is not enabled by default (because KML-files can contain unsupported data structures, nested folders etc., hence be careful when reading KML-files). Supported drivers are managed with [`fiona.supported_drivers`](https://github.com/Toblerity/Fiona/blob/master/fiona/drvsupport.py), which is integrated in geopandas. Let's first check which formats are currently supported:"
   ]
  },
  {
   "cell_type": "code",
   "execution_count": 16,
   "metadata": {},
   "outputs": [
    {
     "data": {
      "text/plain": [
       "{'AeronavFAA': 'r',\n",
       " 'ARCGEN': 'r',\n",
       " 'BNA': 'rw',\n",
       " 'DXF': 'rw',\n",
       " 'CSV': 'raw',\n",
       " 'OpenFileGDB': 'r',\n",
       " 'FlatGeobuf': 'r',\n",
       " 'ESRIJSON': 'r',\n",
       " 'ESRI Shapefile': 'raw',\n",
       " 'GeoJSON': 'raw',\n",
       " 'GeoJSONSeq': 'rw',\n",
       " 'GPKG': 'raw',\n",
       " 'GML': 'rw',\n",
       " 'OGR_GMT': 'rw',\n",
       " 'GPX': 'rw',\n",
       " 'GPSTrackMaker': 'rw',\n",
       " 'Idrisi': 'r',\n",
       " 'MapInfo File': 'raw',\n",
       " 'DGN': 'raw',\n",
       " 'PCIDSK': 'rw',\n",
       " 'OGR_PDS': 'r',\n",
       " 'S57': 'r',\n",
       " 'SEGY': 'r',\n",
       " 'SUA': 'r',\n",
       " 'TopoJSON': 'r'}"
      ]
     },
     "execution_count": 16,
     "metadata": {},
     "output_type": "execute_result"
    }
   ],
   "source": [
    "import geopandas as gpd\n",
    "gpd.io.file.fiona.drvsupport.supported_drivers"
   ]
  },
  {
   "cell_type": "markdown",
   "metadata": {},
   "source": [
    "- Let's enable the read and write functionalities for KML-driver by passing ``'rw'`` to whitelist of fiona's supported drivers:"
   ]
  },
  {
   "cell_type": "code",
   "execution_count": 17,
   "metadata": {
    "deletable": true,
    "editable": true
   },
   "outputs": [],
   "source": [
    "gpd.io.file.fiona.drvsupport.supported_drivers['KML'] = 'rw'"
   ]
  },
  {
   "cell_type": "markdown",
   "metadata": {},
   "source": [
    "Let's check again the supported drivers:"
   ]
  },
  {
   "cell_type": "code",
   "execution_count": 18,
   "metadata": {},
   "outputs": [
    {
     "data": {
      "text/plain": [
       "{'AeronavFAA': 'r',\n",
       " 'ARCGEN': 'r',\n",
       " 'BNA': 'rw',\n",
       " 'DXF': 'rw',\n",
       " 'CSV': 'raw',\n",
       " 'OpenFileGDB': 'r',\n",
       " 'FlatGeobuf': 'r',\n",
       " 'ESRIJSON': 'r',\n",
       " 'ESRI Shapefile': 'raw',\n",
       " 'GeoJSON': 'raw',\n",
       " 'GeoJSONSeq': 'rw',\n",
       " 'GPKG': 'raw',\n",
       " 'GML': 'rw',\n",
       " 'OGR_GMT': 'rw',\n",
       " 'GPX': 'rw',\n",
       " 'GPSTrackMaker': 'rw',\n",
       " 'Idrisi': 'r',\n",
       " 'MapInfo File': 'raw',\n",
       " 'DGN': 'raw',\n",
       " 'PCIDSK': 'rw',\n",
       " 'OGR_PDS': 'r',\n",
       " 'S57': 'r',\n",
       " 'SEGY': 'r',\n",
       " 'SUA': 'r',\n",
       " 'TopoJSON': 'r',\n",
       " 'KML': 'rw'}"
      ]
     },
     "execution_count": 18,
     "metadata": {},
     "output_type": "execute_result"
    }
   ],
   "source": [
    "gpd.io.file.fiona.drvsupport.supported_drivers"
   ]
  },
  {
   "cell_type": "markdown",
   "metadata": {
    "deletable": true,
    "editable": true
   },
   "source": [
    "Now we should be able to read a KML file using the geopandas [read_file()](http://geopandas.org/reference/geopandas.read_file.html#geopandas.read_file) function.\n",
    "\n",
    "- Let's read district polygons from a KML -file that is located in the data-folder:"
   ]
  },
  {
   "cell_type": "code",
   "execution_count": 19,
   "metadata": {
    "deletable": true,
    "editable": true
   },
   "outputs": [],
   "source": [
    "# Filepath to KML file\n",
    "fp = \"data/PKS_suuralue.kml\"\n",
    "polys = gpd.read_file(fp, driver='KML')"
   ]
  },
  {
   "cell_type": "code",
   "execution_count": 20,
   "metadata": {},
   "outputs": [
    {
     "name": "stdout",
     "output_type": "stream",
     "text": [
      "Number of rows: 23\n"
     ]
    },
    {
     "data": {
      "text/html": [
       "<div>\n",
       "<style scoped>\n",
       "    .dataframe tbody tr th:only-of-type {\n",
       "        vertical-align: middle;\n",
       "    }\n",
       "\n",
       "    .dataframe tbody tr th {\n",
       "        vertical-align: top;\n",
       "    }\n",
       "\n",
       "    .dataframe thead th {\n",
       "        text-align: right;\n",
       "    }\n",
       "</style>\n",
       "<table border=\"1\" class=\"dataframe\">\n",
       "  <thead>\n",
       "    <tr style=\"text-align: right;\">\n",
       "      <th></th>\n",
       "      <th>Name</th>\n",
       "      <th>Description</th>\n",
       "      <th>geometry</th>\n",
       "    </tr>\n",
       "  </thead>\n",
       "  <tbody>\n",
       "    <tr>\n",
       "      <th>0</th>\n",
       "      <td>Suur-Espoonlahti</td>\n",
       "      <td></td>\n",
       "      <td>POLYGON Z ((24.77506 60.10906 0.00000, 24.7766...</td>\n",
       "    </tr>\n",
       "    <tr>\n",
       "      <th>1</th>\n",
       "      <td>Suur-Kauklahti</td>\n",
       "      <td></td>\n",
       "      <td>POLYGON Z ((24.61578 60.17257 0.00000, 24.6155...</td>\n",
       "    </tr>\n",
       "    <tr>\n",
       "      <th>2</th>\n",
       "      <td>Vanha-Espoo</td>\n",
       "      <td></td>\n",
       "      <td>POLYGON Z ((24.67576 60.21201 0.00000, 24.6752...</td>\n",
       "    </tr>\n",
       "    <tr>\n",
       "      <th>3</th>\n",
       "      <td>Pohjois-Espoo</td>\n",
       "      <td></td>\n",
       "      <td>POLYGON Z ((24.76792 60.26920 0.00000, 24.7699...</td>\n",
       "    </tr>\n",
       "    <tr>\n",
       "      <th>4</th>\n",
       "      <td>Suur-Matinkylä</td>\n",
       "      <td></td>\n",
       "      <td>POLYGON Z ((24.75361 60.16631 0.00000, 24.7537...</td>\n",
       "    </tr>\n",
       "    <tr>\n",
       "      <th>5</th>\n",
       "      <td>Kauniainen</td>\n",
       "      <td></td>\n",
       "      <td>POLYGON Z ((24.69075 60.21958 0.00000, 24.6924...</td>\n",
       "    </tr>\n",
       "    <tr>\n",
       "      <th>6</th>\n",
       "      <td>Suur-Leppävaara</td>\n",
       "      <td></td>\n",
       "      <td>POLYGON Z ((24.79747 60.20827 0.00000, 24.7954...</td>\n",
       "    </tr>\n",
       "    <tr>\n",
       "      <th>7</th>\n",
       "      <td>Suur-Tapiola</td>\n",
       "      <td></td>\n",
       "      <td>POLYGON Z ((24.84436 60.16598 0.00000, 24.8443...</td>\n",
       "    </tr>\n",
       "    <tr>\n",
       "      <th>8</th>\n",
       "      <td>Myyrmäki</td>\n",
       "      <td></td>\n",
       "      <td>POLYGON Z ((24.82459 60.29025 0.00000, 24.8243...</td>\n",
       "    </tr>\n",
       "    <tr>\n",
       "      <th>9</th>\n",
       "      <td>Kivistö</td>\n",
       "      <td></td>\n",
       "      <td>POLYGON Z ((24.94309 60.33845 0.00000, 24.9421...</td>\n",
       "    </tr>\n",
       "    <tr>\n",
       "      <th>10</th>\n",
       "      <td>Eteläinen</td>\n",
       "      <td></td>\n",
       "      <td>POLYGON Z ((24.78277 60.09997 0.00000, 24.8197...</td>\n",
       "    </tr>\n",
       "  </tbody>\n",
       "</table>\n",
       "</div>"
      ],
      "text/plain": [
       "                Name Description  \\\n",
       "0   Suur-Espoonlahti               \n",
       "1     Suur-Kauklahti               \n",
       "2        Vanha-Espoo               \n",
       "3      Pohjois-Espoo               \n",
       "4     Suur-Matinkylä               \n",
       "5         Kauniainen               \n",
       "6    Suur-Leppävaara               \n",
       "7       Suur-Tapiola               \n",
       "8           Myyrmäki               \n",
       "9            Kivistö               \n",
       "10         Eteläinen               \n",
       "\n",
       "                                             geometry  \n",
       "0   POLYGON Z ((24.77506 60.10906 0.00000, 24.7766...  \n",
       "1   POLYGON Z ((24.61578 60.17257 0.00000, 24.6155...  \n",
       "2   POLYGON Z ((24.67576 60.21201 0.00000, 24.6752...  \n",
       "3   POLYGON Z ((24.76792 60.26920 0.00000, 24.7699...  \n",
       "4   POLYGON Z ((24.75361 60.16631 0.00000, 24.7537...  \n",
       "5   POLYGON Z ((24.69075 60.21958 0.00000, 24.6924...  \n",
       "6   POLYGON Z ((24.79747 60.20827 0.00000, 24.7954...  \n",
       "7   POLYGON Z ((24.84436 60.16598 0.00000, 24.8443...  \n",
       "8   POLYGON Z ((24.82459 60.29025 0.00000, 24.8243...  \n",
       "9   POLYGON Z ((24.94309 60.33845 0.00000, 24.9421...  \n",
       "10  POLYGON Z ((24.78277 60.09997 0.00000, 24.8197...  "
      ]
     },
     "execution_count": 20,
     "metadata": {},
     "output_type": "execute_result"
    }
   ],
   "source": [
    "#Check the data\n",
    "print(\"Number of rows:\",len(polys))\n",
    "polys.head(11)"
   ]
  },
  {
   "cell_type": "markdown",
   "metadata": {},
   "source": [
    "Nice, now we can see that we have 23 districts in our area. \n",
    "Let's quickly plot the geometries to see how the layer looks like: "
   ]
  },
  {
   "cell_type": "code",
   "execution_count": 21,
   "metadata": {},
   "outputs": [
    {
     "data": {
      "text/plain": [
       "<AxesSubplot:>"
      ]
     },
     "execution_count": 21,
     "metadata": {},
     "output_type": "execute_result"
    },
    {
     "data": {
      "image/png": "[encoded data removed]",
      "text/plain": [
       "<Figure size 432x288 with 1 Axes>"
      ]
     },
     "metadata": {
      "needs_background": "light"
     },
     "output_type": "display_data"
    }
   ],
   "source": [
    "polys.plot()"
   ]
  },
  {
   "cell_type": "markdown",
   "metadata": {
    "deletable": true,
    "editable": true
   },
   "source": [
    "We are interested in an area that is called ``Eteläinen`` (*'Southern'* in English).\n",
    "\n",
    "Let's select the ``Eteläinen`` district and see where it is located on a map:\n"
   ]
  },
  {
   "cell_type": "code",
   "execution_count": 22,
   "metadata": {},
   "outputs": [],
   "source": [
    "# Select data \n",
    "southern = polys.loc[polys['Name']=='Eteläinen']"
   ]
  },
  {
   "cell_type": "code",
   "execution_count": 23,
   "metadata": {},
   "outputs": [],
   "source": [
    "# Reset index for the selection\n",
    "southern.reset_index(drop=True, inplace=True)"
   ]
  },
  {
   "cell_type": "code",
   "execution_count": 24,
   "metadata": {},
   "outputs": [
    {
     "data": {
      "text/html": [
       "<div>\n",
       "<style scoped>\n",
       "    .dataframe tbody tr th:only-of-type {\n",
       "        vertical-align: middle;\n",
       "    }\n",
       "\n",
       "    .dataframe tbody tr th {\n",
       "        vertical-align: top;\n",
       "    }\n",
       "\n",
       "    .dataframe thead th {\n",
       "        text-align: right;\n",
       "    }\n",
       "</style>\n",
       "<table border=\"1\" class=\"dataframe\">\n",
       "  <thead>\n",
       "    <tr style=\"text-align: right;\">\n",
       "      <th></th>\n",
       "      <th>Name</th>\n",
       "      <th>Description</th>\n",
       "      <th>geometry</th>\n",
       "    </tr>\n",
       "  </thead>\n",
       "  <tbody>\n",
       "    <tr>\n",
       "      <th>0</th>\n",
       "      <td>Eteläinen</td>\n",
       "      <td></td>\n",
       "      <td>POLYGON Z ((24.78277 60.09997 0.00000, 24.8197...</td>\n",
       "    </tr>\n",
       "  </tbody>\n",
       "</table>\n",
       "</div>"
      ],
      "text/plain": [
       "        Name Description                                           geometry\n",
       "0  Eteläinen              POLYGON Z ((24.78277 60.09997 0.00000, 24.8197..."
      ]
     },
     "execution_count": 24,
     "metadata": {},
     "output_type": "execute_result"
    }
   ],
   "source": [
    "# Check the selction\n",
    "southern.head()"
   ]
  },
  {
   "cell_type": "markdown",
   "metadata": {},
   "source": [
    "- Let's create a map which shows the location of the selected district, and let's also plot the geocoded address points on top of the map:"
   ]
  },
  {
   "cell_type": "code",
   "execution_count": 25,
   "metadata": {
    "deletable": true,
    "editable": true
   },
   "outputs": [
    {
     "data": {
      "image/png": "[encoded data removed]",
      "text/plain": [
       "<Figure size 432x288 with 1 Axes>"
      ]
     },
     "metadata": {
      "needs_background": "light"
     },
     "output_type": "display_data"
    }
   ],
   "source": [
    "import matplotlib.pyplot as plt\n",
    "\n",
    "# Create a figure with one subplot\n",
    "fig, ax = plt.subplots()\n",
    "\n",
    "# Plot polygons\n",
    "polys.plot(ax=ax, facecolor='gray')\n",
    "southern.plot(ax=ax, facecolor='red')\n",
    "\n",
    "# Plot points\n",
    "data.plot(ax=ax, color='blue', markersize=5)\n",
    "\n",
    "plt.tight_layout()"
   ]
  },
  {
   "cell_type": "markdown",
   "metadata": {
    "deletable": true,
    "editable": true
   },
   "source": [
    "Okey, so we can see that, indeed, certain points are within the selected red Polygon.\n",
    "\n",
    "Let's find out which one of them are located within the Polygon. Hence, we are conducting a **Point in Polygon query**.\n",
    "\n",
    "First, let's check that we have  `shapely.speedups` enabled. This module makes some of the spatial queries running faster (starting from Shapely version 1.6.0 Shapely speedups are enabled by default):"
   ]
  },
  {
   "cell_type": "code",
   "execution_count": 26,
   "metadata": {
    "deletable": true,
    "editable": true
   },
   "outputs": [
    {
     "data": {
      "text/plain": [
       "True"
      ]
     },
     "execution_count": 26,
     "metadata": {},
     "output_type": "execute_result"
    }
   ],
   "source": [
    "#import shapely.speedups\n",
    "from shapely import speedups\n",
    "speedups.enabled\n",
    "\n",
    "# If false, run this line:\n",
    "#shapely.speedups.enable()"
   ]
  },
  {
   "cell_type": "markdown",
   "metadata": {
    "deletable": true,
    "editable": true
   },
   "source": [
    "- Let's check which Points are within the ``southern`` Polygon. Notice, that here we check if the Points are ``within`` the **geometry**\n",
    "  of the ``southern`` GeoDataFrame. \n",
    "- We use the ``.at[0, 'geometry']`` to parse the actual Polygon geometry object from the GeoDataFrame."
   ]
  },
  {
   "cell_type": "code",
   "execution_count": 27,
   "metadata": {
    "deletable": true,
    "editable": true
   },
   "outputs": [
    {
     "name": "stdout",
     "output_type": "stream",
     "text": [
      "0      True\n",
      "1      True\n",
      "2      True\n",
      "3     False\n",
      "4      True\n",
      "5     False\n",
      "6     False\n",
      "7     False\n",
      "8     False\n",
      "9     False\n",
      "10     True\n",
      "11    False\n",
      "12    False\n",
      "13    False\n",
      "14    False\n",
      "15    False\n",
      "16    False\n",
      "17    False\n",
      "18    False\n",
      "19    False\n",
      "20    False\n",
      "21    False\n",
      "22    False\n",
      "23    False\n",
      "24    False\n",
      "25    False\n",
      "26    False\n",
      "27    False\n",
      "28    False\n",
      "29    False\n",
      "30     True\n",
      "31     True\n",
      "32     True\n",
      "33     True\n",
      "dtype: bool\n"
     ]
    }
   ],
   "source": [
    "pip_mask = data.within(southern.at[0, 'geometry'])\n",
    "print(pip_mask)"
   ]
  },
  {
   "cell_type": "markdown",
   "metadata": {
    "deletable": true,
    "editable": true
   },
   "source": [
    "As we can see, we now have an array of boolean values for each row, where the result is ``True``\n",
    "if Point was inside the Polygon, and ``False`` if it was not.\n",
    "\n",
    "We can now use this mask array to select the Points that are inside the Polygon. Selecting data with this kind of mask array (of boolean values) is easy by passing the array inside the ``loc`` indexer:\n"
   ]
  },
  {
   "cell_type": "code",
   "execution_count": 28,
   "metadata": {
    "deletable": true,
    "editable": true
   },
   "outputs": [
    {
     "data": {
      "text/html": [
       "<div>\n",
       "<style scoped>\n",
       "    .dataframe tbody tr th:only-of-type {\n",
       "        vertical-align: middle;\n",
       "    }\n",
       "\n",
       "    .dataframe tbody tr th {\n",
       "        vertical-align: top;\n",
       "    }\n",
       "\n",
       "    .dataframe thead th {\n",
       "        text-align: right;\n",
       "    }\n",
       "</style>\n",
       "<table border=\"1\" class=\"dataframe\">\n",
       "  <thead>\n",
       "    <tr style=\"text-align: right;\">\n",
       "      <th></th>\n",
       "      <th>address</th>\n",
       "      <th>id</th>\n",
       "      <th>addr</th>\n",
       "      <th>geometry</th>\n",
       "    </tr>\n",
       "  </thead>\n",
       "  <tbody>\n",
       "    <tr>\n",
       "      <th>0</th>\n",
       "      <td>Ruoholahti, 14, Itämerenkatu, Ruoholahti, Läns...</td>\n",
       "      <td>1000</td>\n",
       "      <td>Itämerenkatu 14, 00101 Helsinki, Finland</td>\n",
       "      <td>POINT (24.91556 60.16320)</td>\n",
       "    </tr>\n",
       "    <tr>\n",
       "      <th>1</th>\n",
       "      <td>Kamppi, 1, Kampinkuja, Kamppi, Eteläinen suurp...</td>\n",
       "      <td>1001</td>\n",
       "      <td>Kampinkuja 1, 00100 Helsinki, Finland</td>\n",
       "      <td>POINT (24.93169 60.16902)</td>\n",
       "    </tr>\n",
       "    <tr>\n",
       "      <th>2</th>\n",
       "      <td>Kauppakeskus Citycenter, 8, Kaivokatu, Keskust...</td>\n",
       "      <td>1002</td>\n",
       "      <td>Kaivokatu 8, 00101 Helsinki, Finland</td>\n",
       "      <td>POINT (24.94179 60.16989)</td>\n",
       "    </tr>\n",
       "    <tr>\n",
       "      <th>4</th>\n",
       "      <td>Hesburger, 9, Tyynenmerenkatu, Jätkäsaari, Län...</td>\n",
       "      <td>1005</td>\n",
       "      <td>Tyynenmerenkatu 9, 00220 Helsinki, Finland</td>\n",
       "      <td>POINT (24.92160 60.15665)</td>\n",
       "    </tr>\n",
       "    <tr>\n",
       "      <th>10</th>\n",
       "      <td>Rautatientori, 2, Kaivokatu, Keskusta, Kluuvi,...</td>\n",
       "      <td>1011</td>\n",
       "      <td>Rautatientori 1, 00100 Helsinki, Finland</td>\n",
       "      <td>POINT (24.93985 60.17038)</td>\n",
       "    </tr>\n",
       "    <tr>\n",
       "      <th>30</th>\n",
       "      <td>Kampin keskus, 1, Urho Kekkosen katu, Kamppi, ...</td>\n",
       "      <td>1031</td>\n",
       "      <td>Urho Kekkosen katu 1, 00100 Helsinki, Finland</td>\n",
       "      <td>POINT (24.93312 60.16909)</td>\n",
       "    </tr>\n",
       "    <tr>\n",
       "      <th>31</th>\n",
       "      <td>Ruoholahdenkatu, Hietalahti, Kamppi, Eteläinen...</td>\n",
       "      <td>1032</td>\n",
       "      <td>Ruoholahdenkatu 17, 00101 Helsinki, Finland</td>\n",
       "      <td>POINT (24.92477 60.16488)</td>\n",
       "    </tr>\n",
       "    <tr>\n",
       "      <th>32</th>\n",
       "      <td>Easy Cycles, 3, Tyynenmerenkatu, Jätkäsaari, L...</td>\n",
       "      <td>1033</td>\n",
       "      <td>Tyynenmerenkatu 3, 00220 Helsinki, Finland</td>\n",
       "      <td>POINT (24.92119 60.15890)</td>\n",
       "    </tr>\n",
       "    <tr>\n",
       "      <th>33</th>\n",
       "      <td>Oluthuone Kaisla, 4, Vilhonkatu, Kaisaniemi, K...</td>\n",
       "      <td>1034</td>\n",
       "      <td>Vilhonkatu 4, 00101 Helsinki, Finland</td>\n",
       "      <td>POINT (24.94709 60.17191)</td>\n",
       "    </tr>\n",
       "  </tbody>\n",
       "</table>\n",
       "</div>"
      ],
      "text/plain": [
       "                                              address    id  \\\n",
       "0   Ruoholahti, 14, Itämerenkatu, Ruoholahti, Läns...  1000   \n",
       "1   Kamppi, 1, Kampinkuja, Kamppi, Eteläinen suurp...  1001   \n",
       "2   Kauppakeskus Citycenter, 8, Kaivokatu, Keskust...  1002   \n",
       "4   Hesburger, 9, Tyynenmerenkatu, Jätkäsaari, Län...  1005   \n",
       "10  Rautatientori, 2, Kaivokatu, Keskusta, Kluuvi,...  1011   \n",
       "30  Kampin keskus, 1, Urho Kekkosen katu, Kamppi, ...  1031   \n",
       "31  Ruoholahdenkatu, Hietalahti, Kamppi, Eteläinen...  1032   \n",
       "32  Easy Cycles, 3, Tyynenmerenkatu, Jätkäsaari, L...  1033   \n",
       "33  Oluthuone Kaisla, 4, Vilhonkatu, Kaisaniemi, K...  1034   \n",
       "\n",
       "                                             addr                   geometry  \n",
       "0        Itämerenkatu 14, 00101 Helsinki, Finland  POINT (24.91556 60.16320)  \n",
       "1           Kampinkuja 1, 00100 Helsinki, Finland  POINT (24.93169 60.16902)  \n",
       "2            Kaivokatu 8, 00101 Helsinki, Finland  POINT (24.94179 60.16989)  \n",
       "4      Tyynenmerenkatu 9, 00220 Helsinki, Finland  POINT (24.92160 60.15665)  \n",
       "10       Rautatientori 1, 00100 Helsinki, Finland  POINT (24.93985 60.17038)  \n",
       "30  Urho Kekkosen katu 1, 00100 Helsinki, Finland  POINT (24.93312 60.16909)  \n",
       "31    Ruoholahdenkatu 17, 00101 Helsinki, Finland  POINT (24.92477 60.16488)  \n",
       "32     Tyynenmerenkatu 3, 00220 Helsinki, Finland  POINT (24.92119 60.15890)  \n",
       "33          Vilhonkatu 4, 00101 Helsinki, Finland  POINT (24.94709 60.17191)  "
      ]
     },
     "execution_count": 28,
     "metadata": {},
     "output_type": "execute_result"
    }
   ],
   "source": [
    "pip_data = data.loc[pip_mask]\n",
    "pip_data"
   ]
  },
  {
   "cell_type": "markdown",
   "metadata": {
    "deletable": true,
    "editable": true
   },
   "source": [
    "Let's finally confirm that our Point in Polygon query worked as it should by plotting the points that are within the southern district:"
   ]
  },
  {
   "cell_type": "code",
   "execution_count": 29,
   "metadata": {
    "deletable": true,
    "editable": true
   },
   "outputs": [
    {
     "data": {
      "image/png": "[encoded data removed]",
      "text/plain": [
       "<Figure size 432x288 with 1 Axes>"
      ]
     },
     "metadata": {
      "needs_background": "light"
     },
     "output_type": "display_data"
    }
   ],
   "source": [
    "# Create a figure with one subplot\n",
    "fig, ax = plt.subplots()\n",
    "\n",
    "# Plot polygons\n",
    "polys.plot(ax=ax, facecolor='gray')\n",
    "southern.plot(ax=ax, facecolor='red')\n",
    "\n",
    "# Plot points\n",
    "pip_data.plot(ax=ax, color='gold', markersize=2)\n",
    "\n",
    "plt.tight_layout() "
   ]
  },
  {
   "cell_type": "markdown",
   "metadata": {
    "deletable": true,
    "editable": true
   },
   "source": [
    "Perfect! Now we only have the (golden) points that, indeed, are inside the red Polygon which is exactly what we wanted!"
   ]
  },
  {
   "cell_type": "code",
   "execution_count": null,
   "metadata": {},
   "outputs": [],
   "source": []
  },
  {
   "cell_type": "code",
   "execution_count": null,
   "metadata": {},
   "outputs": [],
   "source": []
  }
 ],
 "metadata": {
  "anaconda-cloud": {},
  "kernelspec": {
   "display_name": "Python 3",
   "language": "python",
   "name": "python3"
  },
  "language_info": {
   "codemirror_mode": {
    "name": "ipython",
    "version": 3
   },
   "file_extension": ".py",
   "mimetype": "text/x-python",
   "name": "python",
   "nbconvert_exporter": "python",
   "pygments_lexer": "ipython3",
   "version": "3.8.5"
  }
 },
 "nbformat": 4,
 "nbformat_minor": 4
}
